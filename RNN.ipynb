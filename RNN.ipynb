{
  "nbformat": 4,
  "nbformat_minor": 0,
  "metadata": {
    "colab": {
      "name": "RNN.ipynb",
      "provenance": []
    },
    "kernelspec": {
      "name": "python3",
      "display_name": "Python 3"
    }
  },
  "cells": [
    {
      "cell_type": "markdown",
      "metadata": {
        "id": "53TTwwDyvY8P"
      },
      "source": [
        "# task : given a name, identify its natioanlity\r\n",
        "RNN, LSTM, GRU"
      ]
    },
    {
      "cell_type": "code",
      "metadata": {
        "id": "oz6fNdpjr7MD"
      },
      "source": [
        "from io import open\r\n",
        "import os, string, random, time, math\r\n",
        "import matplotlib.pyplot as plt\r\n",
        "import seaborn as sns\r\n",
        "import numpy as np"
      ],
      "execution_count": null,
      "outputs": []
    },
    {
      "cell_type": "code",
      "metadata": {
        "id": "P_rC1tGjvFbP"
      },
      "source": [
        "from sklearn.model_selection import train_test_split"
      ],
      "execution_count": null,
      "outputs": []
    },
    {
      "cell_type": "code",
      "metadata": {
        "id": "4L0OkqSXvI-P"
      },
      "source": [
        "import torch\r\n",
        "import torch.nn as nn\r\n",
        "import torch.optim as optim"
      ],
      "execution_count": null,
      "outputs": []
    },
    {
      "cell_type": "code",
      "metadata": {
        "id": "9E92lzPEvOK-"
      },
      "source": [
        "from IPython.display import clear_output"
      ],
      "execution_count": null,
      "outputs": []
    },
    {
      "cell_type": "code",
      "metadata": {
        "id": "nPIEVMwAvSK4"
      },
      "source": [
        "languages = []\r\n",
        "data = []\r\n",
        "X = []\r\n",
        "Y = []\r\n",
        "\r\n",
        "with open('name2lang.txt', 'r') as f:\r\n",
        "  for line in f:\r\n",
        "    line = line.split(',')\r\n",
        "    name = line[0].strip()\r\n",
        "    lang = line[1].strip()\r\n",
        "    if not lang in languages:\r\n",
        "      languages.append(lang)\r\n",
        "    X.append(name)\r\n",
        "    Y.append(lang)\r\n",
        "    data.append((name,lang))\r\n",
        "  \r\n",
        "n_languages = len(languages)"
      ],
      "execution_count": null,
      "outputs": []
    },
    {
      "cell_type": "code",
      "metadata": {
        "colab": {
          "base_uri": "https://localhost:8080/"
        },
        "id": "N5JCvEKpxGK1",
        "outputId": "d9755ce5-f201-425e-8edb-8652e5e6228c"
      },
      "source": [
        "print(languages)"
      ],
      "execution_count": null,
      "outputs": [
        {
          "output_type": "stream",
          "text": [
            "['Portuguese', 'Irish', 'Spanish', 'Vietnamese', 'Chinese', 'Greek', 'Czech', 'Dutch', 'Japanese', 'French', 'German', 'Scottish', 'English', 'Russian', 'Polish', 'Arabic', 'Korean', 'Italian']\n"
          ],
          "name": "stdout"
        }
      ]
    },
    {
      "cell_type": "code",
      "metadata": {
        "id": "ILdCDPMKxKlM"
      },
      "source": [
        "X_train, X_test, y_train, y_test = train_test_split(X, Y, test_size = 0.2, random_state = 0, stratify=Y)"
      ],
      "execution_count": null,
      "outputs": []
    },
    {
      "cell_type": "markdown",
      "metadata": {
        "id": "1e4Yrg-syBMe"
      },
      "source": [
        "#Encoding names and languages"
      ]
    },
    {
      "cell_type": "code",
      "metadata": {
        "id": "coDcPXgVyWkj"
      },
      "source": [
        "all_letters = string.ascii_letters + \" .,;'\"\r\n",
        "n_letter = len(all_letters)"
      ],
      "execution_count": null,
      "outputs": []
    },
    {
      "cell_type": "code",
      "metadata": {
        "id": "5-R3AaWayAlD"
      },
      "source": [
        "def name_rep(name):\r\n",
        "  rep = torch.zeros(len(name), 1, n_letter)\r\n",
        "  for index, letter in enumerate(name):\r\n",
        "    pos = all_letters.find(letter)\r\n",
        "    rep[index][0][pos] = 1\r\n",
        "  return rep"
      ],
      "execution_count": null,
      "outputs": []
    },
    {
      "cell_type": "code",
      "metadata": {
        "id": "lb8C2_bfxw8m"
      },
      "source": [
        "def lang_rep(lang):\r\n",
        "  return torch.tensor([languages.index(lang)], dtype=torch.long)"
      ],
      "execution_count": null,
      "outputs": []
    },
    {
      "cell_type": "code",
      "metadata": {
        "colab": {
          "base_uri": "https://localhost:8080/"
        },
        "id": "qbUQpPWczNIT",
        "outputId": "75e1f531-e1b7-427c-8824-427382e3cf50"
      },
      "source": [
        "name_rep('abreu')"
      ],
      "execution_count": null,
      "outputs": [
        {
          "output_type": "execute_result",
          "data": {
            "text/plain": [
              "tensor([[[1., 0., 0., 0., 0., 0., 0., 0., 0., 0., 0., 0., 0., 0., 0., 0., 0.,\n",
              "          0., 0., 0., 0., 0., 0., 0., 0., 0., 0., 0., 0., 0., 0., 0., 0., 0.,\n",
              "          0., 0., 0., 0., 0., 0., 0., 0., 0., 0., 0., 0., 0., 0., 0., 0., 0.,\n",
              "          0., 0., 0., 0., 0., 0.]],\n",
              "\n",
              "        [[0., 1., 0., 0., 0., 0., 0., 0., 0., 0., 0., 0., 0., 0., 0., 0., 0.,\n",
              "          0., 0., 0., 0., 0., 0., 0., 0., 0., 0., 0., 0., 0., 0., 0., 0., 0.,\n",
              "          0., 0., 0., 0., 0., 0., 0., 0., 0., 0., 0., 0., 0., 0., 0., 0., 0.,\n",
              "          0., 0., 0., 0., 0., 0.]],\n",
              "\n",
              "        [[0., 0., 0., 0., 0., 0., 0., 0., 0., 0., 0., 0., 0., 0., 0., 0., 0.,\n",
              "          1., 0., 0., 0., 0., 0., 0., 0., 0., 0., 0., 0., 0., 0., 0., 0., 0.,\n",
              "          0., 0., 0., 0., 0., 0., 0., 0., 0., 0., 0., 0., 0., 0., 0., 0., 0.,\n",
              "          0., 0., 0., 0., 0., 0.]],\n",
              "\n",
              "        [[0., 0., 0., 0., 1., 0., 0., 0., 0., 0., 0., 0., 0., 0., 0., 0., 0.,\n",
              "          0., 0., 0., 0., 0., 0., 0., 0., 0., 0., 0., 0., 0., 0., 0., 0., 0.,\n",
              "          0., 0., 0., 0., 0., 0., 0., 0., 0., 0., 0., 0., 0., 0., 0., 0., 0.,\n",
              "          0., 0., 0., 0., 0., 0.]],\n",
              "\n",
              "        [[0., 0., 0., 0., 0., 0., 0., 0., 0., 0., 0., 0., 0., 0., 0., 0., 0.,\n",
              "          0., 0., 0., 1., 0., 0., 0., 0., 0., 0., 0., 0., 0., 0., 0., 0., 0.,\n",
              "          0., 0., 0., 0., 0., 0., 0., 0., 0., 0., 0., 0., 0., 0., 0., 0., 0.,\n",
              "          0., 0., 0., 0., 0., 0.]]])"
            ]
          },
          "metadata": {
            "tags": []
          },
          "execution_count": 13
        }
      ]
    },
    {
      "cell_type": "code",
      "metadata": {
        "id": "4-MlgzY7zQEa"
      },
      "source": [
        "count = {}\r\n",
        "for l in languages:\r\n",
        "  count[l] = 0\r\n",
        "for d in data:\r\n",
        "  count[d[1]] += 1"
      ],
      "execution_count": null,
      "outputs": []
    },
    {
      "cell_type": "code",
      "metadata": {
        "colab": {
          "base_uri": "https://localhost:8080/"
        },
        "id": "eFpUsZFY0cs0",
        "outputId": "400422ba-8d02-4d1a-f4c4-9e7fa4374ef6"
      },
      "source": [
        "count"
      ],
      "execution_count": null,
      "outputs": [
        {
          "output_type": "execute_result",
          "data": {
            "text/plain": [
              "{'Arabic': 2000,\n",
              " 'Chinese': 268,\n",
              " 'Czech': 519,\n",
              " 'Dutch': 297,\n",
              " 'English': 3668,\n",
              " 'French': 277,\n",
              " 'German': 724,\n",
              " 'Greek': 203,\n",
              " 'Irish': 232,\n",
              " 'Italian': 709,\n",
              " 'Japanese': 991,\n",
              " 'Korean': 94,\n",
              " 'Polish': 139,\n",
              " 'Portuguese': 74,\n",
              " 'Russian': 9384,\n",
              " 'Scottish': 100,\n",
              " 'Spanish': 298,\n",
              " 'Vietnamese': 73}"
            ]
          },
          "metadata": {
            "tags": []
          },
          "execution_count": 16
        }
      ]
    },
    {
      "cell_type": "code",
      "metadata": {
        "colab": {
          "base_uri": "https://localhost:8080/",
          "height": 358
        },
        "id": "ju4AzOXT0ioC",
        "outputId": "33e915ef-37c9-4617-9d1e-1ac92e5e0691"
      },
      "source": [
        "plt_ = sns.barplot(list(count.keys()), list(count.values()))\r\n",
        "plt_.set_xticklabels(plt_.get_xticklabels(), rotation = 45)\r\n",
        "plt.show()"
      ],
      "execution_count": null,
      "outputs": [
        {
          "output_type": "stream",
          "text": [
            "/usr/local/lib/python3.6/dist-packages/seaborn/_decorators.py:43: FutureWarning: Pass the following variables as keyword args: x, y. From version 0.12, the only valid positional argument will be `data`, and passing other arguments without an explicit keyword will result in an error or misinterpretation.\n",
            "  FutureWarning\n"
          ],
          "name": "stderr"
        },
        {
          "output_type": "display_data",
          "data": {
            "image/png": "[encoded data removed]",
            "text/plain": [
              "<Figure size 432x288 with 1 Axes>"
            ]
          },
          "metadata": {
            "tags": [],
            "needs_background": "light"
          }
        }
      ]
    },
    {
      "cell_type": "code",
      "metadata": {
        "id": "fNi76WBQ091q"
      },
      "source": [
        "class RNN_net(nn.Module):\r\n",
        "  def __init__(self, input_size, hidden_size, output_size):\r\n",
        "    super(RNN_net, self).__init__()\r\n",
        "    self.hidden_size = hidden_size\r\n",
        "    self.i2h = nn.Linear(input_size + hidden_size, hidden_size)\r\n",
        "    self.i2o = nn.Linear(input_size + hidden_size, output_size)\r\n",
        "    self.softmax = nn.LogSoftmax(dim = 1)\r\n",
        "  \r\n",
        "  def forward(self, input_, hidden):\r\n",
        "    combined = torch.cat((input_, hidden), 1)\r\n",
        "    hidden = self.i2h(combined)\r\n",
        "    output = self.i2o(combined)\r\n",
        "    output = self.softmax(output)\r\n",
        "    return output, hidden\r\n",
        "  \r\n",
        "  def init_hidden(self):\r\n",
        "    return torch.zeros(1, self.hidden_size)"
      ],
      "execution_count": null,
      "outputs": []
    },
    {
      "cell_type": "code",
      "metadata": {
        "id": "Ul8uiVmn2pqh"
      },
      "source": [
        "n_hidden = 128\r\n",
        "net = RNN_net(n_letter, n_hidden, n_languages)"
      ],
      "execution_count": null,
      "outputs": []
    },
    {
      "cell_type": "code",
      "metadata": {
        "id": "THBRXeqz4N2w"
      },
      "source": [
        "def infer(net, name):\r\n",
        "  net.eval()\r\n",
        "  name_ohe = name_rep(name)\r\n",
        "  hidden = net.init_hidden()\r\n",
        "\r\n",
        "  for i in range(name_ohe.size()[0]):\r\n",
        "    output, hidden = net(name_ohe[i], hidden)\r\n",
        "  return output"
      ],
      "execution_count": null,
      "outputs": []
    },
    {
      "cell_type": "code",
      "metadata": {
        "colab": {
          "base_uri": "https://localhost:8080/"
        },
        "id": "yqv4SWEO494r",
        "outputId": "ce0e2173-9326-482e-bc8f-91f5901d2bc0"
      },
      "source": [
        "output = infer(net, 'Adam')\r\n",
        "index = torch.argmax(output)\r\n",
        "print(output, index)"
      ],
      "execution_count": null,
      "outputs": [
        {
          "output_type": "stream",
          "text": [
            "tensor([[-2.8395, -2.9601, -2.8363, -2.9950, -2.7450, -2.8924, -2.9429, -2.9834,\n",
            "         -2.8052, -2.8499, -2.9127, -2.8810, -2.8691, -2.8978, -2.8926, -2.9492,\n",
            "         -2.8646, -2.9458]], grad_fn=<LogSoftmaxBackward>) tensor(4)\n"
          ],
          "name": "stdout"
        }
      ]
    },
    {
      "cell_type": "code",
      "metadata": {
        "id": "fbIzSKOm5Waw"
      },
      "source": [
        "def dataloader(npoints, X_, y_):\r\n",
        "  to_ret = []\r\n",
        "  for i in range(npoints):\r\n",
        "    index_ = np.random.randint(len(X_))\r\n",
        "    name, lang = X_[index_], y_[index_]\r\n",
        "    to_ret.append((name, lang, name_rep(name), lang_rep(lang)))\r\n",
        "  return to_ret"
      ],
      "execution_count": null,
      "outputs": []
    },
    {
      "cell_type": "code",
      "metadata": {
        "id": "iE0DeGgF6VIv"
      },
      "source": [
        "def eval(net, n_points, k, X_, y_):\r\n",
        "  data_ = dataloader(n_points, X_, y_)\r\n",
        "  correct = 0\r\n",
        "  for name, language, name_ohe, lang_rep in data_:\r\n",
        "    output = infer(net, name)\r\n",
        "    val, indices = output.topk(k)\r\n",
        "\r\n",
        "    if lang_rep in indices:\r\n",
        "      correct += 1\r\n",
        "    \r\n",
        "    accuracy = correct / n_points\r\n",
        "    return accuracy"
      ],
      "execution_count": null,
      "outputs": []
    },
    {
      "cell_type": "code",
      "metadata": {
        "colab": {
          "base_uri": "https://localhost:8080/"
        },
        "id": "7xovVrTV695G",
        "outputId": "a06dc90e-8ac5-4429-9ffc-7a6cda59409c"
      },
      "source": [
        "eval(net, 1000, 10, X_test, y_test)"
      ],
      "execution_count": null,
      "outputs": [
        {
          "output_type": "execute_result",
          "data": {
            "text/plain": [
              "0.0"
            ]
          },
          "metadata": {
            "tags": []
          },
          "execution_count": 37
        }
      ]
    },
    {
      "cell_type": "code",
      "metadata": {
        "id": "ao5GB6Tr7lNl"
      },
      "source": [
        "def train(net, opt, critarion, n_points):\r\n",
        "  opt.zero_grad()\r\n",
        "  total_loss = 0\r\n",
        "  data_ = dataloader(n_points, X_train, y_train)\r\n",
        "  for name, language, name_ohe, lang_rep in data_:\r\n",
        "    hidden = net.init_hidden()\r\n",
        "    for i in range(name_ohe.size()[0]):\r\n",
        "      output, hidden = net(name_ohe[i], hidden)\r\n",
        "    loss = criterion(output, lang_rep)\r\n",
        "    loss.backward(retain_graph=True)\r\n",
        "\r\n",
        "    total_loss += loss\r\n",
        "  \r\n",
        "  opt.step()\r\n",
        "  return total_loss/n_points\r\n"
      ],
      "execution_count": null,
      "outputs": []
    },
    {
      "cell_type": "code",
      "metadata": {
        "id": "dDvbAqFiPXSI"
      },
      "source": [
        "criterion = nn.NLLLoss()\r\n",
        "opt = optim.SGD(net.parameters(), lr = 0.01, momentum = 0.9)"
      ],
      "execution_count": null,
      "outputs": []
    },
    {
      "cell_type": "code",
      "metadata": {
        "colab": {
          "base_uri": "https://localhost:8080/"
        },
        "id": "qaVjglA-PrC4",
        "outputId": "017ce246-0663-4316-bbfc-1b3f305ed7e2"
      },
      "source": [
        "train(net, opt, criterion, 200)"
      ],
      "execution_count": null,
      "outputs": [
        {
          "output_type": "execute_result",
          "data": {
            "text/plain": [
              "tensor(nan, grad_fn=<DivBackward0>)"
            ]
          },
          "metadata": {
            "tags": []
          },
          "execution_count": 47
        }
      ]
    },
    {
      "cell_type": "code",
      "metadata": {
        "colab": {
          "base_uri": "https://localhost:8080/"
        },
        "id": "qsxsevw2QPLA",
        "outputId": "fe1313c1-ae74-4b29-bb10-96fc2e9c2e5a"
      },
      "source": [
        "eval(net, 100, 10, X_test, y_test)"
      ],
      "execution_count": null,
      "outputs": [
        {
          "output_type": "execute_result",
          "data": {
            "text/plain": [
              "0.01"
            ]
          },
          "metadata": {
            "tags": []
          },
          "execution_count": 48
        }
      ]
    },
    {
      "cell_type": "code",
      "metadata": {
        "id": "GskY9mPKQegE"
      },
      "source": [
        "def train_setup(net, lr = 0.01, n_batches = 100, batch_size = 10, momentum = 0.9, display_freq=5):\r\n",
        "    \r\n",
        "    criterion = nn.NLLLoss()\r\n",
        "    opt = optim.SGD(net.parameters(), lr=lr, momentum=momentum)\r\n",
        "    \r\n",
        "    loss_arr = np.zeros(n_batches + 1)\r\n",
        "    \r\n",
        "    for i in range(n_batches):\r\n",
        "        loss_arr[i+1] = (loss_arr[i]*i + train(net, opt, criterion, batch_size))/(i + 1)\r\n",
        "        \r\n",
        "        if i%display_freq == display_freq-1:\r\n",
        "            clear_output(wait=True)\r\n",
        "            \r\n",
        "            print('Iteration', i, 'Top-1:', eval(net, len(X_test), 1, X_test, y_test), 'Top-2:', eval(net, len(X_test), 2, X_test, y_test), 'Loss', loss_arr[i])\r\n",
        "            plt.figure()\r\n",
        "            plt.plot(loss_arr[1:i], '-*')\r\n",
        "            plt.xlabel('Iteration')\r\n",
        "            plt.ylabel('Loss')\r\n",
        "            plt.show()\r\n",
        "            print('\\n\\n')"
      ],
      "execution_count": null,
      "outputs": []
    },
    {
      "cell_type": "code",
      "metadata": {
        "colab": {
          "base_uri": "https://localhost:8080/",
          "height": 347
        },
        "id": "IkXyp5-QdCBG",
        "outputId": "c99f3745-ef09-491e-d54f-f19c11e1f6c5"
      },
      "source": [
        "n_hidden = 128\r\n",
        "net = RNN_net(n_letter, n_hidden, n_languages)\r\n",
        "train_setup(net, lr=0.0005, n_batches=100, batch_size = 256)"
      ],
      "execution_count": null,
      "outputs": [
        {
          "output_type": "stream",
          "text": [
            "Iteration 99 Top-1: 0.0 Top-2: 0.0 Loss 1.4648634195327759\n"
          ],
          "name": "stdout"
        },
        {
          "output_type": "display_data",
          "data": {
            "image/png": "[encoded data removed]",
            "text/plain": [
              "<Figure size 432x288 with 1 Axes>"
            ]
          },
          "metadata": {
            "tags": [],
            "needs_background": "light"
          }
        },
        {
          "output_type": "stream",
          "text": [
            "\n",
            "\n",
            "\n"
          ],
          "name": "stdout"
        }
      ]
    },
    {
      "cell_type": "code",
      "metadata": {
        "id": "MdjA60CadEov"
      },
      "source": [
        "class LSTM_net(nn.Module):\r\n",
        "    def __init__(self, input_size, hidden_size, output_size):\r\n",
        "        super(LSTM_net, self).__init__()\r\n",
        "        self.hidden_size = hidden_size\r\n",
        "        self.lstm_cell = nn.LSTM(input_size, hidden_size)\r\n",
        "        self.h2o = nn.Linear(hidden_size, output_size)\r\n",
        "        self.softmax = nn.LogSoftmax(dim=2)\r\n",
        "    \r\n",
        "    def forward(self, input_, hidden):\r\n",
        "        out, hidden = self.lstm_cell(input_.view(1, 1, -1), hidden)\r\n",
        "        output = self.h2o(hidden[0])\r\n",
        "        output = self.softmax(output)\r\n",
        "        return output.view(1, -1), hidden\r\n",
        "    \r\n",
        "    def init_hidden(self):\r\n",
        "        return (torch.zeros(1, 1, self.hidden_size), torch.zeros(1, 1, self.hidden_size))"
      ],
      "execution_count": null,
      "outputs": []
    },
    {
      "cell_type": "code",
      "metadata": {
        "colab": {
          "base_uri": "https://localhost:8080/",
          "height": 347
        },
        "id": "f40VayLode9d",
        "outputId": "abefdb47-e927-44dc-fca8-b96a7ae35ecd"
      },
      "source": [
        "n_hidden = 128\r\n",
        "net = LSTM_net(n_letter, n_hidden, n_languages)\r\n",
        "train_setup(net, lr=0.0005, n_batches=100, batch_size = 256)"
      ],
      "execution_count": null,
      "outputs": [
        {
          "output_type": "stream",
          "text": [
            "Iteration 99 Top-1: 0.00024937655860349125 Top-2: 0.00024937655860349125 Loss 1.7971559762954712\n"
          ],
          "name": "stdout"
        },
        {
          "output_type": "display_data",
          "data": {
            "image/png": "[encoded data removed]",
            "text/plain": [
              "<Figure size 432x288 with 1 Axes>"
            ]
          },
          "metadata": {
            "tags": [],
            "needs_background": "light"
          }
        },
        {
          "output_type": "stream",
          "text": [
            "\n",
            "\n",
            "\n"
          ],
          "name": "stdout"
        }
      ]
    },
    {
      "cell_type": "code",
      "metadata": {
        "id": "LfgYsbxydhPF"
      },
      "source": [
        "class GRU_net(nn.Module):\r\n",
        "    def __init__(self, input_size, hidden_size, output_size):\r\n",
        "        super(GRU_net, self).__init__()\r\n",
        "        self.hidden_size = hidden_size\r\n",
        "        self.gru_cell = nn.GRU(input_size, hidden_size)\r\n",
        "        self.h2o = nn.Linear(hidden_size, output_size)\r\n",
        "        self.softmax = nn.LogSoftmax(dim=2)\r\n",
        "    \r\n",
        "    def forward(self, input_, hidden):\r\n",
        "        out, hidden = self.gru_cell(input_.view(1, 1, -1), hidden)\r\n",
        "        output = self.h2o(hidden)\r\n",
        "        output = self.softmax(output)\r\n",
        "        return output.view(1, -1), hidden\r\n",
        "    \r\n",
        "    def init_hidden(self):\r\n",
        "        return torch.zeros(1, 1, self.hidden_size)"
      ],
      "execution_count": null,
      "outputs": []
    },
    {
      "cell_type": "code",
      "metadata": {
        "colab": {
          "base_uri": "https://localhost:8080/",
          "height": 347
        },
        "id": "3HqfflZedwY3",
        "outputId": "c50973c1-fb02-41d5-b0eb-eab2091dfe53"
      },
      "source": [
        "n_hidden = 128\r\n",
        "net = GRU_net(n_letter, n_hidden, n_languages)\r\n",
        "train_setup(net, lr=0.0005, n_batches=100, batch_size = 256)"
      ],
      "execution_count": null,
      "outputs": [
        {
          "output_type": "stream",
          "text": [
            "Iteration 99 Top-1: 0.0 Top-2: 0.0 Loss 1.6550981998443604\n"
          ],
          "name": "stdout"
        },
        {
          "output_type": "display_data",
          "data": {
            "image/png": "[encoded data removed]",
            "text/plain": [
              "<Figure size 432x288 with 1 Axes>"
            ]
          },
          "metadata": {
            "tags": [],
            "needs_background": "light"
          }
        },
        {
          "output_type": "stream",
          "text": [
            "\n",
            "\n",
            "\n"
          ],
          "name": "stdout"
        }
      ]
    },
    {
      "cell_type": "code",
      "metadata": {
        "id": "FMQ8MkwKeNDY"
      },
      "source": [
        ""
      ],
      "execution_count": null,
      "outputs": []
    }
  ]
}